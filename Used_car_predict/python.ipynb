{
 "cells": [
  {
   "cell_type": "markdown",
   "id": "b924781d",
   "metadata": {},
   "source": [
    "# Step 1: Import Libraries and Load Dataset"
   ]
  },
  {
   "cell_type": "code",
   "execution_count": 1,
   "id": "c4609e5e",
   "metadata": {},
   "outputs": [],
   "source": [
    "import pandas as pd\n",
    "import numpy as np\n",
    "import matplotlib.pyplot as plt\n",
    "import seaborn as sns"
   ]
  },
  {
   "cell_type": "markdown",
   "id": "97ddbe17",
   "metadata": {},
   "source": [
    "## load the dataset"
   ]
  },
  {
   "cell_type": "code",
   "execution_count": 2,
   "id": "f8be5b6b",
   "metadata": {},
   "outputs": [],
   "source": [
    "df = pd.read_csv('D:\\Data\\Dataset\\cars.csv')"
   ]
  },
  {
   "cell_type": "markdown",
   "id": "3f5bd0a3",
   "metadata": {},
   "source": [
    "# Step 2: Exploratory Data Analysis"
   ]
  },
  {
   "cell_type": "markdown",
   "id": "bddb94d8",
   "metadata": {},
   "source": [
    "## get a summary of the dataset"
   ]
  },
  {
   "cell_type": "code",
   "execution_count": 4,
   "id": "8ed210da",
   "metadata": {},
   "outputs": [
    {
     "name": "stdout",
     "output_type": "stream",
     "text": [
      "<class 'pandas.core.frame.DataFrame'>\n",
      "RangeIndex: 1725 entries, 0 to 1724\n",
      "Data columns (total 11 columns):\n",
      " #   Column                   Non-Null Count  Dtype  \n",
      "---  ------                   --------------  -----  \n",
      " 0   Id                       1725 non-null   int64  \n",
      " 1   year                     1725 non-null   int64  \n",
      " 2   brand                    1725 non-null   object \n",
      " 3   full_model_name          1725 non-null   object \n",
      " 4   model_name               1725 non-null   object \n",
      " 5   price                    1725 non-null   float64\n",
      " 6   distance_travelled(kms)  1725 non-null   float64\n",
      " 7   fuel_type                1725 non-null   object \n",
      " 8   city                     1725 non-null   object \n",
      " 9   brand_rank               1725 non-null   int64  \n",
      " 10  car_age                  1725 non-null   float64\n",
      "dtypes: float64(3), int64(3), object(5)\n",
      "memory usage: 148.4+ KB\n"
     ]
    },
    {
     "name": "stderr",
     "output_type": "stream",
     "text": [
      "C:\\ProgramData\\Anaconda3\\lib\\site-packages\\seaborn\\_decorators.py:36: FutureWarning: Pass the following variable as a keyword arg: x. From version 0.12, the only valid positional argument will be `data`, and passing other arguments without an explicit keyword will result in an error or misinterpretation.\n",
      "  warnings.warn(\n",
      "C:\\ProgramData\\Anaconda3\\lib\\site-packages\\seaborn\\_decorators.py:36: FutureWarning: Pass the following variable as a keyword arg: x. From version 0.12, the only valid positional argument will be `data`, and passing other arguments without an explicit keyword will result in an error or misinterpretation.\n",
      "  warnings.warn(\n",
      "C:\\ProgramData\\Anaconda3\\lib\\site-packages\\seaborn\\_decorators.py:36: FutureWarning: Pass the following variable as a keyword arg: x. From version 0.12, the only valid positional argument will be `data`, and passing other arguments without an explicit keyword will result in an error or misinterpretation.\n",
      "  warnings.warn(\n"
     ]
    },
    {
     "data": {
      "text/plain": [
       "<AxesSubplot:xlabel='city', ylabel='count'>"
      ]
     },
     "execution_count": 4,
     "metadata": {},
     "output_type": "execute_result"
    },
    {
     "data": {
      "image/png": "[encoded data removed]",
      "text/plain": [
       "<Figure size 432x288 with 1 Axes>"
      ]
     },
     "metadata": {
      "needs_background": "light"
     },
     "output_type": "display_data"
    }
   ],
   "source": [
    "df.info()\n",
    "df.describe()\n",
    "\n",
    "sns.histplot(df['price'], kde=True)\n",
    "sns.histplot(df['distance_travelled(kms)'], kde=True)\n",
    "sns.histplot(df['car_age'], kde=True)\n",
    "\n",
    "sns.countplot(df['brand'])\n",
    "sns.countplot(df['fuel_type'])\n",
    "sns.countplot(df['city'])\n"
   ]
  },
  {
   "cell_type": "markdown",
   "id": "691df3d9",
   "metadata": {},
   "source": [
    "# Step 3: Layout Regression Experiment Space"
   ]
  },
  {
   "cell_type": "code",
   "execution_count": 10,
   "id": "05d26e78",
   "metadata": {},
   "outputs": [],
   "source": [
    "df = pd.get_dummies(df, drop_first=True)\n",
    "\n",
    "from sklearn.model_selection import train_test_split\n",
    "\n",
    "X = df.drop('price', axis=1)\n",
    "y = df['price']\n",
    "\n",
    "X_train, X_test, y_train, y_test = train_test_split(X, y, test_size=0.2, random_state=42)\n",
    "\n",
    "from sklearn.preprocessing import StandardScaler\n",
    "\n",
    "scaler = StandardScaler()\n",
    "\n",
    "X_train[['year', 'distance_travelled(kms)', 'car_age']] = scaler.fit_transform(X_train[['year', 'distance_travelled(kms)', 'car_age']])\n",
    "X_test[['year', 'distance_travelled(kms)', 'car_age']] = scaler.transform(X_test[['year', 'distance_travelled(kms)', 'car_age']])\n"
   ]
  },
  {
   "cell_type": "markdown",
   "id": "992a4e37",
   "metadata": {},
   "source": [
    "# Step 4: Build and Evaluate Regression Models"
   ]
  },
  {
   "cell_type": "code",
   "execution_count": 11,
   "id": "206ea2f1",
   "metadata": {},
   "outputs": [
    {
     "name": "stdout",
     "output_type": "stream",
     "text": [
      "Linear Regression\n",
      "MSE:  1533635833132.117\n",
      "R2 score:  0.54315475599948\n",
      "Ridge Regression\n",
      "MSE:  1526822179072.3613\n",
      "R2 score:  0.5451844330481097\n",
      "Lasso Regression\n",
      "MSE:  1536153957596.711\n",
      "R2 score:  0.5424046475574377\n"
     ]
    },
    {
     "name": "stderr",
     "output_type": "stream",
     "text": [
      "C:\\ProgramData\\Anaconda3\\lib\\site-packages\\sklearn\\linear_model\\_coordinate_descent.py:647: ConvergenceWarning: Objective did not converge. You might want to increase the number of iterations, check the scale of the features or consider increasing regularisation. Duality gap: 6.094e+14, tolerance: 3.651e+11\n",
      "  model = cd_fast.enet_coordinate_descent(\n"
     ]
    },
    {
     "name": "stdout",
     "output_type": "stream",
     "text": [
      "Random Forest Regression\n",
      "MSE:  1079668277430.9423\n",
      "R2 score:  0.6783843289347107\n"
     ]
    }
   ],
   "source": [
    "from sklearn.linear_model import LinearRegression\n",
    "from sklearn.metrics import mean_squared_error, r2_score\n",
    "\n",
    "lr = LinearRegression()\n",
    "lr.fit(X_train, y_train)\n",
    "\n",
    "y_pred_lr = lr.predict(X_test)\n",
    "\n",
    "print(\"Linear Regression\")\n",
    "print(\"MSE: \", mean_squared_error(y_test, y_pred_lr))\n",
    "print(\"R2 score: \", r2_score(y_test, y_pred_lr))\n",
    "\n",
    "# ridge regression\n",
    "from sklearn.linear_model import Ridge\n",
    "\n",
    "ridge = Ridge(alpha=1)\n",
    "ridge.fit(X_train, y_train)\n",
    "\n",
    "y_pred_ridge = ridge.predict(X_test)\n",
    "\n",
    "print(\"Ridge Regression\")\n",
    "print(\"MSE: \", mean_squared_error(y_test, y_pred_ridge))\n",
    "print(\"R2 score: \", r2_score(y_test, y_pred_ridge))\n",
    "\n",
    "# lasso regression\n",
    "from sklearn.linear_model import Lasso\n",
    "\n",
    "lasso = Lasso(alpha=1)\n",
    "lasso.fit(X_train, y_train)\n",
    "\n",
    "y_pred_lasso = lasso.predict(X_test)\n",
    "\n",
    "print(\"Lasso Regression\")\n",
    "print(\"MSE: \", mean_squared_error(y_test, y_pred_lasso))\n",
    "print(\"R2 score: \", r2_score(y_test, y_pred_lasso))\n",
    "\n",
    "# random forest regression\n",
    "from sklearn.ensemble import RandomForestRegressor\n",
    "\n",
    "rf = RandomForestRegressor(n_estimators=100, random_state=42)\n",
    "rf.fit(X_train, y_train)\n",
    "\n",
    "y_pred_rf = rf.predict(X_test)\n",
    "\n",
    "print(\"Random Forest Regression\")\n",
    "print(\"MSE: \", mean_squared_error(y_test, y_pred_rf))\n",
    "print(\"R2 score: \", r2_score(y_test, y_pred_rf))\n"
   ]
  },
  {
   "cell_type": "markdown",
   "id": "bd2a2dd4",
   "metadata": {},
   "source": [
    "# Step 5: List Out Most Important Features"
   ]
  },
  {
   "cell_type": "code",
   "execution_count": 12,
   "id": "2a1d59c8",
   "metadata": {},
   "outputs": [
    {
     "name": "stdout",
     "output_type": "stream",
     "text": [
      "brand_rank 0.15545907454445945\n",
      "distance_travelled(kms) 0.1252517860934555\n",
      "car_age 0.09376006322808482\n",
      "year 0.09288427808871895\n",
      "brand_Lamborghini 0.0765899816580732\n",
      "brand_Land Rover 0.06377149134243078\n",
      "brand_Jaguar 0.04386847231788872\n",
      "brand_Bentley 0.0425515347310799\n",
      "brand_Volkswagen 0.040901696899409756\n",
      "brand_Mercedes-Benz 0.0399435738176106\n",
      "city_Delhi 0.035389616639351716\n",
      "brand_Volvo 0.029677688072974426\n",
      "brand_BMW 0.02552877604048539\n",
      "brand_Toyota 0.016818625663049362\n",
      "fuel_type_Diesel 0.016243274561075632\n",
      "city_Pune 0.013636478407535686\n",
      "brand_Honda 0.012550929427255044\n",
      "brand_Ford 0.010057405273572531\n",
      "city_Dehradun 0.009979405775474836\n",
      "brand_MINI 0.008796156026526548\n",
      "city_Hyderabad 0.008607779779053703\n",
      "brand_Porsche 0.008528368236826801\n",
      "fuel_type_Petrol 0.007344372720162831\n",
      "city_Mumbai 0.005741048576713822\n",
      "city_Chennai 0.004384257861038178\n",
      "brand_Lexus 0.004265234340794544\n",
      "brand_Maruti Suzuki 0.0019474184560894978\n",
      "city_Bangalore 0.001829091132919055\n",
      "city_Faridabad 0.0014460890872379484\n",
      "city_Navi Mumbai 0.001048945617356125\n",
      "brand_Skoda 0.00024726713219209865\n",
      "brand_Tata 0.00024630370695957597\n",
      "brand_Renault 0.0001777840210990727\n",
      "city_Lucknow 0.0001270292076262481\n",
      "brand_Fiat 0.0001242529656914899\n",
      "brand_Mahindra 9.537610922263124e-05\n",
      "city_Thane 5.216162493660152e-05\n",
      "brand_MG 3.570733761349622e-05\n",
      "city_Noida 2.922194007646199e-05\n",
      "brand_Jeep 2.2546512243972768e-05\n",
      "brand_Datsun 1.5981200931268458e-05\n",
      "brand_Mitsubishi 1.0338414405916131e-05\n",
      "brand_Kia 7.937110954207799e-06\n",
      "brand_Hyundai 2.5798494057891444e-06\n",
      "fuel_type_Petrol + 1 1.4233799143920513e-06\n",
      "city_Panchkula 1.1750700214454787e-06\n",
      "brand_Chevrolet 0.0\n",
      "brand_Isuzu 0.0\n",
      "brand_Mahindra-Renault 0.0\n",
      "brand_Nissan 0.0\n",
      "fuel_type_Hybrid 0.0\n",
      "city_Ghaziabad 0.0\n"
     ]
    }
   ],
   "source": [
    "rf_model = RandomForestRegressor(n_estimators=100, max_depth=10, random_state=42)\n",
    "rf_model.fit(X_train, y_train)\n",
    "\n",
    "importances = rf_model.feature_importances_\n",
    "\n",
    "feature_importances = dict(zip(X_train.columns, importances))\n",
    "\n",
    "sorted_features = sorted(feature_importances.items(), key=lambda x: x[1], reverse=True)\n",
    "for feature, importance in sorted_features:\n",
    "    print(feature, importance)\n"
   ]
  },
  {
   "cell_type": "code",
   "execution_count": null,
   "id": "c53bfabe",
   "metadata": {},
   "outputs": [],
   "source": []
  }
 ],
 "metadata": {
  "kernelspec": {
   "display_name": "Python 3 (ipykernel)",
   "language": "python",
   "name": "python3"
  },
  "language_info": {
   "codemirror_mode": {
    "name": "ipython",
    "version": 3
   },
   "file_extension": ".py",
   "mimetype": "text/x-python",
   "name": "python",
   "nbconvert_exporter": "python",
   "pygments_lexer": "ipython3",
   "version": "3.9.12"
  }
 },
 "nbformat": 4,
 "nbformat_minor": 5
}
